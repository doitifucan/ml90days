{
 "cells": [
  {
   "cell_type": "code",
   "execution_count": 2,
   "metadata": {},
   "outputs": [
    {
     "name": "stdout",
     "output_type": "stream",
     "text": [
      "division by zero\n"
     ]
    }
   ],
   "source": [
    "#try/except to catch the exceptions\n",
    "try:\n",
    "    res=5/0\n",
    "except ZeroDivisionError as e:\n",
    "    print(e)\n",
    "except Exception as e:\n",
    "    print(e)"
   ]
  },
  {
   "cell_type": "code",
   "execution_count": 47,
   "metadata": {},
   "outputs": [
    {
     "data": {
      "text/plain": [
       "['Americans  play Baseball',\n",
       " 'Americans  play Cricket',\n",
       " 'Americans  watch Baseball',\n",
       " 'Americans  watch Cricket',\n",
       " 'Indians play Baseball',\n",
       " 'Indians play Cricket',\n",
       " 'Indians watch Baseball',\n",
       " 'Indians watch Cricket']"
      ]
     },
     "execution_count": 47,
     "metadata": {},
     "output_type": "execute_result"
    }
   ],
   "source": [
    "subjects=[\"Americans \",\"Indians\"]\n",
    "verbs=[\"play\",\"watch\"]\n",
    "objects=[\"Baseball\",\"Cricket\"]\n",
    "[\"{} {} {}\".format(x,y,z) for x in subjects for y in verbs for z in objects]"
   ]
  },
  {
   "cell_type": "code",
   "execution_count": 126,
   "metadata": {},
   "outputs": [
    {
     "data": {
      "text/plain": [
       "[[1, 1, 1, 1, 1, 1],\n",
       " [32, 16, 8, 4, 2, 1],\n",
       " [243, 81, 27, 9, 3, 1],\n",
       " [1024, 256, 64, 16, 4, 1]]"
      ]
     },
     "execution_count": 126,
     "metadata": {},
     "output_type": "execute_result"
    }
   ],
   "source": [
    "#function creates and returns a matrix based on vander function defined in numpy\n",
    "#input array is a 1 D array,\n",
    "#N is Number of columns in the output defaults to length of input ,\n",
    "#increasing to change the powers ascending or descinding column wise\n",
    "\n",
    "def vander_func(input_array,N=None,increasing=False):\n",
    "    if(N is None or not isinstance(N,int)):\n",
    "        N=len(input_array)\n",
    "    asc_desc_order=range(N)\n",
    "    if(not increasing):\n",
    "        asc_desc_order=range(N-1,-1,-1)\n",
    "    #for order in asc_desc_order:\n",
    "    #    for x in input_array:\n",
    "    #        print(x**order,end=',')\n",
    "    #    print(\"\\n\")\n",
    "    result_matrix=[[x**order for order in asc_desc_order] for x in input_array]\n",
    "    return result_matrix\n",
    "\n",
    "vander_func([1,2,3,4],N=6,increasing=False)\n",
    "#vander_func([1,2,3,4],N=10,increasing=True)\n",
    "#vander_func([1,2,3,5],increasing=False)\n",
    "#import numpy as np\n",
    "#np.vander([1,2,3,4],N=6,increasing=True)"
   ]
  }
 ],
 "metadata": {
  "kernelspec": {
   "display_name": "Python 3",
   "language": "python",
   "name": "python3"
  },
  "language_info": {
   "codemirror_mode": {
    "name": "ipython",
    "version": 3
   },
   "file_extension": ".py",
   "mimetype": "text/x-python",
   "name": "python",
   "nbconvert_exporter": "python",
   "pygments_lexer": "ipython3",
   "version": "3.7.3"
  }
 },
 "nbformat": 4,
 "nbformat_minor": 2
}
