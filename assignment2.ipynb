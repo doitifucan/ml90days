{
 "cells": [
  {
   "cell_type": "markdown",
   "metadata": {},
   "source": [
    "Task 1"
   ]
  },
  {
   "cell_type": "code",
   "execution_count": 32,
   "metadata": {},
   "outputs": [
    {
     "name": "stdout",
     "output_type": "stream",
     "text": [
      "myreduce with sum_func: 6\n",
      "myreduce with lambda sum: 6\n",
      "myreduce with lambda multiply: 24\n",
      "myreduce with lambda max value: 7\n"
     ]
    }
   ],
   "source": [
    "#Task1.1\n",
    "#reduce implementation\n",
    "def sum_func(x,y):\n",
    "    return x+y\n",
    "def multi_func(x,y):\n",
    "    return x*y\n",
    "def myreduce(func,iterable):\n",
    "    res=iterable[0]\n",
    "    for i in range(1,len(iterable)):\n",
    "        res=func(res,iterable[i])\n",
    "    return res\n",
    "print(\"myreduce with sum_func:\",myreduce(sum_func,[1,2,3]))\n",
    "print(\"myreduce with lambda sum:\",myreduce(lambda a,b:a+b,[1,2,3]))\n",
    "print(\"myreduce with lambda multiply:\",myreduce(lambda a,b:a*b,[1,2,3,4]))\n",
    "print(\"myreduce with lambda max value:\",myreduce(lambda a,b: a if (a > b) else b,[4,7,5,6]))"
   ]
  },
  {
   "cell_type": "code",
   "execution_count": 37,
   "metadata": {},
   "outputs": [
    {
     "name": "stdout",
     "output_type": "stream",
     "text": [
      "Even numbers list is  [2, 4, 6, 8]\n",
      "Ovals in the list is  ['e', 'i', 'o', 'a']\n"
     ]
    }
   ],
   "source": [
    "#Task1.2\n",
    "#filter implementation\n",
    "def even_check(num):\n",
    "    if num%2 ==0:\n",
    "        return True\n",
    "ovals=['a','e','i','o','u']\n",
    "def oval_check(x):\n",
    "    return x.lower() in ovals\n",
    "def myfilter(func,iterable):\n",
    "    filtered=[]\n",
    "    for x in iterable:\n",
    "        if(func(x)):\n",
    "            filtered.append(x)\n",
    "    return filtered    \n",
    "lst =[1,2,3,4,5,6,7,8]\n",
    "print(\"Even numbers list is \",list(myfilter(even_check,lst)))\n",
    "print(\"Ovals in the list is \",list(myfilter(oval_check,list('sderjioka'))))"
   ]
  },
  {
   "cell_type": "markdown",
   "metadata": {},
   "source": [
    "#Task 1.3)\n",
    "Implement List comprehensions to produce the following lists.Write List comprehensions to produce the following Lists\n",
    "['A', 'C', 'A', 'D', 'G', 'I', ’L’, ‘ D’]\n",
    "['x', 'xx', 'xxx', 'xxxx', 'y', 'yy', 'yyy', 'yyyy', 'z', 'zz', 'zzz', 'zzzz']\n",
    "['x', 'y', 'z', 'xx', 'yy', 'zz', 'xxx', 'yyy', 'zzz', 'xxxx', 'yyyy', 'zzzz']\n",
    "[[2], [3], [4], [3], [4], [5], [4], [5], [6]]\n",
    "[[2, 3, 4, 5], [3, 4, 5, 6], [4, 5, 6, 7],[5, 6, 7, 8]]\n",
    "[(1, 1), (2, 1), (3, 1), (1, 2), (2, 2), (3, 2), (1, 3), (2, 3), (3, 3)]"
   ]
  },
  {
   "cell_type": "code",
   "execution_count": 10,
   "metadata": {},
   "outputs": [
    {
     "data": {
      "text/plain": [
       "['A', 'C', 'A', 'D', 'G', 'I', 'L', 'D']"
      ]
     },
     "execution_count": 10,
     "metadata": {},
     "output_type": "execute_result"
    }
   ],
   "source": [
    "[x for x in list('ACADGILD')]"
   ]
  },
  {
   "cell_type": "code",
   "execution_count": 9,
   "metadata": {},
   "outputs": [
    {
     "data": {
      "text/plain": [
       "['x', 'xx', 'xxx', 'xxxx', 'y', 'yy', 'yyy', 'yyyy', 'z', 'zz', 'zzz', 'zzzz']"
      ]
     },
     "execution_count": 9,
     "metadata": {},
     "output_type": "execute_result"
    }
   ],
   "source": [
    "[num*var for var in ['x','y','z'] for num in [1,2,3,4]]\n"
   ]
  },
  {
   "cell_type": "code",
   "execution_count": 13,
   "metadata": {},
   "outputs": [
    {
     "data": {
      "text/plain": [
       "['x', 'xx', 'xxx', 'xxxx', 'y', 'yy', 'yyy', 'yyyy', 'z', 'zz', 'zzz', 'zzzz']"
      ]
     },
     "execution_count": 13,
     "metadata": {},
     "output_type": "execute_result"
    }
   ],
   "source": [
    "[num*row for row in ['x','y','z'] for num in [1,2,3,4]]"
   ]
  },
  {
   "cell_type": "code",
   "execution_count": 27,
   "metadata": {},
   "outputs": [
    {
     "data": {
      "text/plain": [
       "[[2], [3], [4], [3], [4], [5], [4], [5], [6]]"
      ]
     },
     "execution_count": 27,
     "metadata": {},
     "output_type": "execute_result"
    }
   ],
   "source": [
    "[[x+y] for y in [1,2,3] for x in [1,2,3]]"
   ]
  },
  {
   "cell_type": "code",
   "execution_count": 40,
   "metadata": {},
   "outputs": [
    {
     "data": {
      "text/plain": [
       "[[2, 3, 4, 5], [3, 4, 5, 6], [4, 5, 6, 7], [5, 6, 7, 8]]"
      ]
     },
     "execution_count": 40,
     "metadata": {},
     "output_type": "execute_result"
    }
   ],
   "source": [
    "[[x+y for y in [1,2,3,4]] for x in [1,2,3,4]]"
   ]
  },
  {
   "cell_type": "code",
   "execution_count": 22,
   "metadata": {},
   "outputs": [
    {
     "data": {
      "text/plain": [
       "[(1, 1), (2, 1), (3, 1), (1, 2), (2, 2), (3, 2), (1, 3), (2, 3), (3, 3)]"
      ]
     },
     "execution_count": 22,
     "metadata": {},
     "output_type": "execute_result"
    }
   ],
   "source": [
    "[(x,y) for y in [1,2,3] for x in [1,2,3]]"
   ]
  },
  {
   "cell_type": "markdown",
   "metadata": {},
   "source": [
    "3. Implement a function longestWord() that takes a list of words and returns the longest one."
   ]
  },
  {
   "cell_type": "code",
   "execution_count": 47,
   "metadata": {},
   "outputs": [
    {
     "data": {
      "text/plain": [
       "'defgrt'"
      ]
     },
     "execution_count": 47,
     "metadata": {},
     "output_type": "execute_result"
    }
   ],
   "source": [
    "#function takes list of words and returns longest word\n",
    "def longestWord(list_of_words):\n",
    "    #initialize with\n",
    "    longest=list_of_words[0] \n",
    "    #iterate over list_of_words\n",
    "    for x in list_of_words[1:]:\n",
    "        if(len(x)>=len(longest)):\n",
    "            longest=x\n",
    "    return longest\n",
    "longestWord(['abc','defgrt','hijkl'])"
   ]
  },
  {
   "cell_type": "code",
   "execution_count": 72,
   "metadata": {},
   "outputs": [
    {
     "name": "stdout",
     "output_type": "stream",
     "text": [
      "Enter Length of side A2\n",
      "Enter Length of side B2\n",
      "Enter Length of side C2\n",
      "Area of triangle with sides 2,2,2 is 1.7320508075688772\n"
     ]
    },
    {
     "data": {
      "text/plain": [
       "1.7320508075688772"
      ]
     },
     "execution_count": 72,
     "metadata": {},
     "output_type": "execute_result"
    }
   ],
   "source": [
    "#Task1.1\n",
    "#area = (s*(s-a)*(s-b)*(s-c)) ** 0.5\n",
    "class TriangleSidesReader:\n",
    "    def __init__(self):\n",
    "        pass\n",
    "    def takemeasures(self):\n",
    "        self.sidea=int(input(\"Enter Length of side A\"))\n",
    "        self.sideb=int(input(\"Enter Length of side B\"))\n",
    "        self.sidec=int(input(\"Enter Length of side C\"))\n",
    "        \n",
    "class Triangle(TriangleSidesReader):\n",
    "    def area(self):\n",
    "        super().takemeasures()\n",
    "        s=(self.sidea+self.sideb+self.sidec)/2\n",
    "        area=(s*(s-self.sidea)*(s-self.sideb)*(s-self.sidec))**0.5\n",
    "        print(\"Area of triangle with sides {},{},{} is {}\".format(self.sidea,self.sideb,self.sidec,area))\n",
    "\n",
    "triangle=Triangle()\n",
    "triangle.area()"
   ]
  },
  {
   "cell_type": "code",
   "execution_count": 51,
   "metadata": {},
   "outputs": [
    {
     "data": {
      "text/plain": [
       "['asdfg', 'eeeef']"
      ]
     },
     "execution_count": 51,
     "metadata": {},
     "output_type": "execute_result"
    }
   ],
   "source": [
    "#1.2\n",
    "#filter_long_words length more than given number\n",
    "def filter_long_words(list_of_words,n):\n",
    "    filtered=[]\n",
    "    for x in list_of_words:\n",
    "        if(len(x)>n):\n",
    "            filtered.append(x)\n",
    "    return filtered\n",
    "filter_long_words([\"abc\",\"defg\",\"asdfg\",\"abcd\",\"eeeef\"],4)"
   ]
  },
  {
   "cell_type": "code",
   "execution_count": 53,
   "metadata": {},
   "outputs": [
    {
     "data": {
      "text/plain": [
       "[5, 4, 1, 4]"
      ]
     },
     "execution_count": 53,
     "metadata": {},
     "output_type": "execute_result"
    }
   ],
   "source": [
    "#2.1\n",
    "#Write a Python program using function concept that maps  list of words into a list of #integersrepresenting the lengths of the corresponding words\n",
    "def get_lengths(lst):\n",
    "    return [len(x) for x in lst]\n",
    "get_lengths(['hello','abcd','a','efgh'])"
   ]
  },
  {
   "cell_type": "code",
   "execution_count": 56,
   "metadata": {},
   "outputs": [
    {
     "data": {
      "text/plain": [
       "True"
      ]
     },
     "execution_count": 56,
     "metadata": {},
     "output_type": "execute_result"
    }
   ],
   "source": [
    "#2.2\n",
    "def isoval(char):\n",
    "    return char.lower() in ['a','e','i','o','u']\n",
    "isoval('A')"
   ]
  }
 ],
 "metadata": {
  "kernelspec": {
   "display_name": "Python 3",
   "language": "python",
   "name": "python3"
  },
  "language_info": {
   "codemirror_mode": {
    "name": "ipython",
    "version": 3
   },
   "file_extension": ".py",
   "mimetype": "text/x-python",
   "name": "python",
   "nbconvert_exporter": "python",
   "pygments_lexer": "ipython3",
   "version": "3.7.3"
  }
 },
 "nbformat": 4,
 "nbformat_minor": 2
}
